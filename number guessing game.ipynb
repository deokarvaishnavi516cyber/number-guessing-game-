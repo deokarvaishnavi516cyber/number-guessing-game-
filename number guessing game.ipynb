{
 "cells": [
  {
   "cell_type": "code",
   "execution_count": null,
   "id": "0b4ca3c6",
   "metadata": {},
   "outputs": [],
   "source": [
    "import random\n",
    "\n",
    "def guess_the_number():\n",
    "    print(\"Welcome to the Guess the Number Game!\")\n",
    "    print(\"Guess a number between 1 and 100\")\n",
    "\n",
    "    number = random.randint(1,100)\n",
    "    guess = None\n",
    "    attempts = 0 \n",
    "\n",
    "    while guess != number:\n",
    "        try:\n",
    "            guess = int(input(\"Enter your guess: \"))\n",
    "            attempts += 1\n",
    "\n",
    "            if guess < number:\n",
    "                print(\"Too low! Try again.\")\n",
    "            else:\n",
    "                print(f\" Congratulations! You guessed it in {attempts} tries.\")\n",
    "        except ValueError:\n",
    "            print(\"Please enter a valid number.\")\n",
    "\n",
    "guess_the_number()"
   ]
  },
  {
   "cell_type": "code",
   "execution_count": null,
   "id": "78c80f62-43d1-4f7f-bd9a-e557f9f1befc",
   "metadata": {},
   "outputs": [
    {
     "name": "stdout",
     "output_type": "stream",
     "text": [
      "Welcome to the Guess the Number Game!\n",
      "Guess a number between 1 and 100\n"
     ]
    },
    {
     "name": "stdout",
     "output_type": "stream",
     "text": [
      "Enter your guess:  10\n"
     ]
    },
    {
     "name": "stdout",
     "output_type": "stream",
     "text": [
      "Too low! Try again.\n"
     ]
    },
    {
     "name": "stdout",
     "output_type": "stream",
     "text": [
      "Enter your guess:  50\n"
     ]
    },
    {
     "name": "stdout",
     "output_type": "stream",
     "text": [
      " Congratulations! You guessed it in 2 tries.\n"
     ]
    },
    {
     "name": "stdout",
     "output_type": "stream",
     "text": [
      "Enter your guess:  98\n"
     ]
    },
    {
     "name": "stdout",
     "output_type": "stream",
     "text": [
      " Congratulations! You guessed it in 3 tries.\n"
     ]
    }
   ],
   "source": [
    " "
   ]
  },
  {
   "cell_type": "code",
   "execution_count": null,
   "id": "d2db80b6-d467-4c17-9821-0646a9933ac8",
   "metadata": {},
   "outputs": [],
   "source": []
  }
 ],
 "metadata": {
  "kernelspec": {
   "display_name": "Python 3 (ipykernel)",
   "language": "python",
   "name": "python3"
  },
  "language_info": {
   "codemirror_mode": {
    "name": "ipython",
    "version": 3
   },
   "file_extension": ".py",
   "mimetype": "text/x-python",
   "name": "python",
   "nbconvert_exporter": "python",
   "pygments_lexer": "ipython3",
   "version": "3.13.5"
  },
  "widgets": {
   "application/vnd.jupyter.widget-state+json": {
    "state": {},
    "version_major": 2,
    "version_minor": 0
   }
  }
 },
 "nbformat": 4,
 "nbformat_minor": 5
}
